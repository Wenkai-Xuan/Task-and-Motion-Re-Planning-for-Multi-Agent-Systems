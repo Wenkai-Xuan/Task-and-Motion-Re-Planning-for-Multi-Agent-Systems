{
 "cells": [
  {
   "cell_type": "code",
   "execution_count": 25,
   "metadata": {},
   "outputs": [],
   "source": [
    "import pandas as pd\n",
    "import json\n",
    "import numpy as np\n",
    "import os\n"
   ]
  },
  {
   "cell_type": "code",
   "execution_count": 75,
   "metadata": {},
   "outputs": [],
   "source": [
    "df = pd.read_parquet('conveyor_5_rela.parquet')"
   ]
  },
  {
   "cell_type": "code",
   "execution_count": 76,
   "metadata": {},
   "outputs": [
    {
     "data": {
      "text/plain": [
       "{'objects': array([{'goal_pos': array([0.99165794, 0.88015619, 0.135     ]), 'goal_quat': array([ 0.87857692, -0.        , -0.        , -0.47760088]), 'parent': None, 'shape': array([0.18, 0.2 , 0.17]), 'start_pos': array([0.60109976, 1.19948319, 0.13489235]), 'start_quat': array([-9.99840566e-01, -3.51205129e-08,  7.49480452e-08,  1.78561409e-02])},\n",
       "        {'goal_pos': array([-0.97108162, -0.07812088,  0.095     ]), 'goal_quat': array([0.52469642, 0.        , 0.        , 0.85128941]), 'parent': 'a0_pen_tip', 'shape': array([0.08, 0.08, 0.09]), 'start_pos': array([ 0.00589956, -0.0475158 ,  0.02492748]), 'start_quat': array([ 0.04352593,  0.87692866,  0.44167087, -0.18446804])}],\n",
       "       dtype=object)}"
      ]
     },
     "execution_count": 76,
     "metadata": {},
     "output_type": "execute_result"
    }
   ],
   "source": [
    "df['obj_file'][0]"
   ]
  },
  {
   "cell_type": "code",
   "execution_count": 29,
   "metadata": {},
   "outputs": [],
   "source": [
    "train = df[0:80].copy()\n",
    "test = df[80:].copy()\n",
    "train.to_parquet('conveyor_5_rela_train.parquet')\n",
    "test.to_parquet('conveyor_5_rela_test.parquet')"
   ]
  },
  {
   "cell_type": "code",
   "execution_count": 68,
   "metadata": {},
   "outputs": [],
   "source": [
    "df = pd.read_parquet('example.parquet')"
   ]
  },
  {
   "cell_type": "code",
   "execution_count": 69,
   "metadata": {},
   "outputs": [
    {
     "data": {
      "text/plain": [
       "{'objects': array([{'goal_pos': array([0.99165794, 0.88015619, 0.135     ]), 'goal_quat': array([ 0.87857692, -0.        , -0.        , -0.47760088]), 'parent': 'table', 'shape': array([0.18, 0.2 , 0.17]), 'start_pos': array([-0.01340796,  0.5739036 ,  0.135     ]), 'start_quat': array([0.77371179, 0.        , 0.        , 0.63353774])},\n",
       "        {'goal_pos': array([-0.97108162, -0.07812088,  0.095     ]), 'goal_quat': array([0.52469642, 0.        , 0.        , 0.85128941]), 'parent': 'table', 'shape': array([0.08, 0.08, 0.09]), 'start_pos': array([ 0.11954686, -0.09735814,  0.095     ]), 'start_quat': array([ 0.36617593, -0.        , -0.        , -0.93054564])}],\n",
       "       dtype=object)}"
      ]
     },
     "execution_count": 69,
     "metadata": {},
     "output_type": "execute_result"
    }
   ],
   "source": [
    "df['obj_file'][0]"
   ]
  },
  {
   "cell_type": "code",
   "execution_count": 11,
   "metadata": {},
   "outputs": [
    {
     "name": "stdout",
     "output_type": "stream",
     "text": [
      "Dataframe loaded\n"
     ]
    }
   ],
   "source": [
    "if isinstance(df, pd.DataFrame):\n",
    "    print('Dataframe loaded')"
   ]
  },
  {
   "cell_type": "code",
   "execution_count": 43,
   "metadata": {},
   "outputs": [
    {
     "data": {
      "text/plain": [
       "{'objects': array([{'goal_pos': array([0.99165794, 0.88015619, 0.135     ]), 'goal_quat': array([ 0.87857692, -0.        , -0.        , -0.47760088]), 'parent': None, 'shape': array([0.18, 0.2 , 0.17]), 'start_pos': array([-0.01340796,  0.5739036 ,  0.135     ]), 'start_quat': array([0.77371179, 0.        , 0.        , 0.63353774])},\n",
       "        {'goal_pos': array([-0.97108162, -0.07812088,  0.095     ]), 'goal_quat': array([0.52469642, 0.        , 0.        , 0.85128941]), 'parent': None, 'shape': array([0.08, 0.08, 0.09]), 'start_pos': array([ 0.11954686, -0.09735814,  0.095     ]), 'start_quat': array([ 0.36617593, -0.        , -0.        , -0.93054564])}],\n",
       "       dtype=object)}"
      ]
     },
     "execution_count": 43,
     "metadata": {},
     "output_type": "execute_result"
    }
   ],
   "source": [
    "df['obj_file'][0]"
   ]
  },
  {
   "cell_type": "code",
   "execution_count": 16,
   "metadata": {},
   "outputs": [],
   "source": [
    "de = pd.read_parquet('../samples_000010000_to_000012113.parquet')"
   ]
  },
  {
   "cell_type": "code",
   "execution_count": 18,
   "metadata": {},
   "outputs": [
    {
     "data": {
      "text/plain": [
       "{'objects': array([{'goal_pos': array([0.99165794, 0.88015619, 0.135     ]), 'goal_quat': array([ 0.87857692, -0.        , -0.        , -0.47760088]), 'shape': array([0.18, 0.2 , 0.17]), 'start_pos': array([-0.01340796,  0.5739036 ,  0.135     ]), 'start_quat': array([0.77371179, 0.        , 0.        , 0.63353774])},\n",
       "        {'goal_pos': array([-0.97108162, -0.07812088,  0.095     ]), 'goal_quat': array([0.52469642, 0.        , 0.        , 0.85128941]), 'shape': array([0.08, 0.08, 0.09]), 'start_pos': array([ 0.11954686, -0.09735814,  0.095     ]), 'start_quat': array([ 0.36617593, -0.        , -0.        , -0.93054564])}],\n",
       "       dtype=object)}"
      ]
     },
     "execution_count": 18,
     "metadata": {},
     "output_type": "execute_result"
    }
   ],
   "source": [
    "de['obj_file'][0]"
   ]
  },
  {
   "cell_type": "code",
   "execution_count": 53,
   "metadata": {},
   "outputs": [
    {
     "name": "stdout",
     "output_type": "stream",
     "text": [
      "                           dicts\n",
      "0          {'a': [{'a': 2}, {}]}\n",
      "1  {'a': [{'a': 1, 'b': 2}, {}]}\n"
     ]
    }
   ],
   "source": [
    "import pandas as pd\n",
    "import sys\n",
    "# Valid: Column with lists (same structure)\n",
    "data = {\n",
    "    # 'lists': [[{'a': 1, 'd': {'b': 2}}, 2], [3, 2]],  # object dtype (list)\n",
    "    'dicts': [{'a': [{'a': 2}, {}]}]  # object dtype (dict)\n",
    "}\n",
    "\n",
    "df = pd.DataFrame(data)\n",
    "dfs = df\n",
    "data = {\n",
    "    # 'lists': [[{'a': 1, 'd': {'b': 2}}, 2], [3, 2]],  # object dtype (list)\n",
    "    'dicts': [{'a': [{'a': 1, 'b': 2}, {}]}]  # object dtype (dict)\n",
    "}\n",
    "df = pd.DataFrame(data)\n",
    "dfs=pd.concat([dfs, df], ignore_index=True)\n",
    "print(dfs)"
   ]
  },
  {
   "cell_type": "code",
   "execution_count": 78,
   "metadata": {},
   "outputs": [],
   "source": [
    "dfs = pd.read_parquet('conveyor_5_rela.parquet')"
   ]
  },
  {
   "cell_type": "code",
   "execution_count": 79,
   "metadata": {},
   "outputs": [],
   "source": [
    "dfs_train = dfs[:int(len(dfs)*0.8)].copy()\n",
    "dfs_test = dfs[int(len(dfs)*0.8):].copy()\n",
    "dfs_train.to_parquet(\"conveyor_5_rela_train.parquet\")\n",
    "dfs_test.to_parquet(\"conveyor_5_rela_test.parquet\")"
   ]
  }
 ],
 "metadata": {
  "kernelspec": {
   "display_name": "base",
   "language": "python",
   "name": "python3"
  },
  "language_info": {
   "codemirror_mode": {
    "name": "ipython",
    "version": 3
   },
   "file_extension": ".py",
   "mimetype": "text/x-python",
   "name": "python",
   "nbconvert_exporter": "python",
   "pygments_lexer": "ipython3",
   "version": "3.9.19"
  }
 },
 "nbformat": 4,
 "nbformat_minor": 2
}
