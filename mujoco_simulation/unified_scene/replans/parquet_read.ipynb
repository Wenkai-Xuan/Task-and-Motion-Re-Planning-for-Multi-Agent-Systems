{
 "cells": [
  {
   "cell_type": "code",
   "execution_count": 12,
   "metadata": {},
   "outputs": [],
   "source": [
    "import pandas as pd\n",
    "import json\n",
    "import numpy as np\n",
    "import os\n"
   ]
  },
  {
   "cell_type": "code",
   "execution_count": 13,
   "metadata": {},
   "outputs": [],
   "source": [
    "df = pd.read_parquet('conveyor_5_rela.parquet')"
   ]
  },
  {
   "cell_type": "code",
   "execution_count": 19,
   "metadata": {},
   "outputs": [
    {
     "data": {
      "text/plain": [
       "{'Objects': {'obj1': {'goal': {'abs_pos': array([0.99165794, 0.93015619, 0.685     ]),\n",
       "    'abs_quat': array([ 0.87857692, -0.        , -0.        , -0.47760088]),\n",
       "    'parent': 'table',\n",
       "    'pos': array([0.99165794, 0.88015619, 0.135     ]),\n",
       "    'quat': array([ 0.87857692, -0.        , -0.        , -0.47760088])},\n",
       "   'size': array([0.18, 0.2 , 0.17, 0.01]),\n",
       "   'start': {'abs_pos': array([0.60109976, 1.24948319, 0.68489235]),\n",
       "    'abs_quat': array([-9.99840566e-01, -3.51205129e-08,  7.49480452e-08,  1.78561409e-02]),\n",
       "    'parent': 'table',\n",
       "    'pos': array([0.60109976, 1.19948319, 0.13489235]),\n",
       "    'quat': array([-9.99840566e-01, -3.51205129e-08,  7.49480452e-08,  1.78561409e-02])}},\n",
       "  'obj2': {'goal': {'abs_pos': array([-0.97108162, -0.02812088,  0.645     ]),\n",
       "    'abs_quat': array([0.52469642, 0.        , 0.        , 0.85128941]),\n",
       "    'parent': 'table',\n",
       "    'pos': array([-0.97108162, -0.07812088,  0.095     ]),\n",
       "    'quat': array([0.52469642, 0.        , 0.        , 0.85128941])},\n",
       "   'size': array([0.08, 0.08, 0.09, 0.01]),\n",
       "   'start': {'abs_pos': array([-0.41663495,  0.15709505,  0.73828376]),\n",
       "    'abs_quat': array([-0.97512452,  0.06144094, -0.1462336 , -0.1548319 ]),\n",
       "    'parent': 'a0_pen_tip',\n",
       "    'pos': array([ 0.00589956, -0.0475158 ,  0.02492748]),\n",
       "    'quat': array([ 0.04352593,  0.87692866,  0.44167087, -0.18446804])}}},\n",
       " 'Obstacles': {'World': {'pose': {'abs_pos': array([0., 0., 0.]),\n",
       "    'abs_quat': array([1., 0., 0., 0.]),\n",
       "    'pos': array([0., 0., 0.]),\n",
       "    'quat': array([1., 0., 0., 0.])}},\n",
       "  'table': {'contact': 1,\n",
       "   'pose': {'abs_pos': array([0.  , 0.05, 0.55]),\n",
       "    'abs_quat': array([1., 0., 0., 0.]),\n",
       "    'parent': 'table_base',\n",
       "    'pos': array([ 0.  ,  0.05, -0.05]),\n",
       "    'quat': array([1., 0., 0., 0.])},\n",
       "   'shape': 'box',\n",
       "   'size': array([3.  , 2.5 , 0.05, 0.02])},\n",
       "  'table_base': {'contact': 0,\n",
       "   'pose': {'abs_pos': array([0. , 0. , 0.6]),\n",
       "    'abs_quat': array([1., 0., 0., 0.]),\n",
       "    'parent': 'World',\n",
       "    'pos': array([0. , 0. , 0.6]),\n",
       "    'quat': array([1., 0., 0., 0.])},\n",
       "   'shape': 'marker',\n",
       "   'size': array([0.03])}},\n",
       " 'Robots': {'a0_': {'base_pose': {'pos': array([-0.5, -0.4,  0. ]),\n",
       "    'quat': array([1., 0., 0., 0.])},\n",
       "   'end_effector_type': 1,\n",
       "   'home_pose': array([ 0.  ,  0.5 , -1.2 ,  0.  ,  1.57,  1.57]),\n",
       "   'initial_pose': array([ 1.39353033, -0.36330237, -1.68902298, -0.02989675,  2.071799  ,\n",
       "           1.58301201]),\n",
       "   'parent': 'table',\n",
       "   'type': 0},\n",
       "  'a1_': {'base_pose': {'pos': array([ 0.6, -0.4,  0. ]),\n",
       "    'quat': array([0., 0., 0., 1.])},\n",
       "   'end_effector_type': 1,\n",
       "   'home_pose': array([ 0.  ,  0.5 , -1.2 ,  0.  ,  1.57,  1.57]),\n",
       "   'initial_pose': array([ 0.  ,  0.5 , -1.2 ,  0.  ,  1.57,  1.57]),\n",
       "   'parent': 'table',\n",
       "   'type': 0},\n",
       "  'a2_': {'base_pose': {'pos': array([-0.5,  0.4,  0. ]),\n",
       "    'quat': array([1., 0., 0., 0.])},\n",
       "   'end_effector_type': 1,\n",
       "   'home_pose': array([ 0.  ,  0.5 , -1.2 ,  0.  ,  1.57,  1.57]),\n",
       "   'initial_pose': array([ 0.03352753, -0.12795064, -1.39836612, -0.12254619,  1.66340308,\n",
       "           1.81840672]),\n",
       "   'parent': 'table',\n",
       "   'type': 0},\n",
       "  'a3_': {'base_pose': {'pos': array([0.6, 0.4, 0. ]),\n",
       "    'quat': array([0., 0., 0., 1.])},\n",
       "   'end_effector_type': 1,\n",
       "   'home_pose': array([ 0.  ,  0.5 , -1.2 ,  0.  ,  1.57,  1.57]),\n",
       "   'initial_pose': array([-0.86839229, -0.17646624, -1.5768044 ,  0.10950031,  1.53931169,\n",
       "           2.2403568 ]),\n",
       "   'parent': 'table',\n",
       "   'type': 0}}}"
      ]
     },
     "execution_count": 19,
     "metadata": {},
     "output_type": "execute_result"
    }
   ],
   "source": [
    "df['scene'][0]"
   ]
  },
  {
   "cell_type": "code",
   "execution_count": 11,
   "metadata": {},
   "outputs": [],
   "source": [
    "train = df[0:80].copy()\n",
    "test = df[80:].copy()\n",
    "train.to_parquet('conveyor_5_rela_train.parquet')\n",
    "test.to_parquet('conveyor_5_rela_test.parquet')"
   ]
  },
  {
   "cell_type": "code",
   "execution_count": null,
   "metadata": {},
   "outputs": [],
   "source": []
  }
 ],
 "metadata": {
  "kernelspec": {
   "display_name": "base",
   "language": "python",
   "name": "python3"
  },
  "language_info": {
   "codemirror_mode": {
    "name": "ipython",
    "version": 3
   },
   "file_extension": ".py",
   "mimetype": "text/x-python",
   "name": "python",
   "nbconvert_exporter": "python",
   "pygments_lexer": "ipython3",
   "version": "3.9.19"
  }
 },
 "nbformat": 4,
 "nbformat_minor": 2
}
