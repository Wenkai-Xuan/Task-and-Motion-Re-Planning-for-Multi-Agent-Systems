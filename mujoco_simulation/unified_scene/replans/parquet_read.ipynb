{
 "cells": [
  {
   "cell_type": "code",
   "execution_count": 3,
   "metadata": {},
   "outputs": [],
   "source": [
    "import pandas as pd\n",
    "import json\n",
    "import numpy as np\n",
    "import os\n"
   ]
  },
  {
   "cell_type": "code",
   "execution_count": 75,
   "metadata": {},
   "outputs": [],
   "source": [
    "df = pd.read_parquet('conveyor_5_rela.parquet')"
   ]
  },
  {
   "cell_type": "code",
   "execution_count": 76,
   "metadata": {},
   "outputs": [
    {
     "data": {
      "text/plain": [
       "{'objects': array([{'goal_pos': array([0.99165794, 0.88015619, 0.135     ]), 'goal_quat': array([ 0.87857692, -0.        , -0.        , -0.47760088]), 'parent': None, 'shape': array([0.18, 0.2 , 0.17]), 'start_pos': array([0.60109976, 1.19948319, 0.13489235]), 'start_quat': array([-9.99840566e-01, -3.51205129e-08,  7.49480452e-08,  1.78561409e-02])},\n",
       "        {'goal_pos': array([-0.97108162, -0.07812088,  0.095     ]), 'goal_quat': array([0.52469642, 0.        , 0.        , 0.85128941]), 'parent': 'a0_pen_tip', 'shape': array([0.08, 0.08, 0.09]), 'start_pos': array([ 0.00589956, -0.0475158 ,  0.02492748]), 'start_quat': array([ 0.04352593,  0.87692866,  0.44167087, -0.18446804])}],\n",
       "       dtype=object)}"
      ]
     },
     "execution_count": 76,
     "metadata": {},
     "output_type": "execute_result"
    }
   ],
   "source": [
    "df['obj_file'][0]"
   ]
  },
  {
   "cell_type": "code",
   "execution_count": 29,
   "metadata": {},
   "outputs": [],
   "source": [
    "train = df[0:80].copy()\n",
    "test = df[80:].copy()\n",
    "train.to_parquet('conveyor_5_rela_train.parquet')\n",
    "test.to_parquet('conveyor_5_rela_test.parquet')"
   ]
  },
  {
   "cell_type": "code",
   "execution_count": 68,
   "metadata": {},
   "outputs": [],
   "source": [
    "df = pd.read_parquet('example.parquet')"
   ]
  },
  {
   "cell_type": "code",
   "execution_count": 69,
   "metadata": {},
   "outputs": [
    {
     "data": {
      "text/plain": [
       "{'objects': array([{'goal_pos': array([0.99165794, 0.88015619, 0.135     ]), 'goal_quat': array([ 0.87857692, -0.        , -0.        , -0.47760088]), 'parent': 'table', 'shape': array([0.18, 0.2 , 0.17]), 'start_pos': array([-0.01340796,  0.5739036 ,  0.135     ]), 'start_quat': array([0.77371179, 0.        , 0.        , 0.63353774])},\n",
       "        {'goal_pos': array([-0.97108162, -0.07812088,  0.095     ]), 'goal_quat': array([0.52469642, 0.        , 0.        , 0.85128941]), 'parent': 'table', 'shape': array([0.08, 0.08, 0.09]), 'start_pos': array([ 0.11954686, -0.09735814,  0.095     ]), 'start_quat': array([ 0.36617593, -0.        , -0.        , -0.93054564])}],\n",
       "       dtype=object)}"
      ]
     },
     "execution_count": 69,
     "metadata": {},
     "output_type": "execute_result"
    }
   ],
   "source": [
    "df['obj_file'][0]"
   ]
  },
  {
   "cell_type": "code",
   "execution_count": 11,
   "metadata": {},
   "outputs": [
    {
     "name": "stdout",
     "output_type": "stream",
     "text": [
      "Dataframe loaded\n"
     ]
    }
   ],
   "source": [
    "if isinstance(df, pd.DataFrame):\n",
    "    print('Dataframe loaded')"
   ]
  },
  {
   "cell_type": "code",
   "execution_count": 43,
   "metadata": {},
   "outputs": [
    {
     "data": {
      "text/plain": [
       "{'objects': array([{'goal_pos': array([0.99165794, 0.88015619, 0.135     ]), 'goal_quat': array([ 0.87857692, -0.        , -0.        , -0.47760088]), 'parent': None, 'shape': array([0.18, 0.2 , 0.17]), 'start_pos': array([-0.01340796,  0.5739036 ,  0.135     ]), 'start_quat': array([0.77371179, 0.        , 0.        , 0.63353774])},\n",
       "        {'goal_pos': array([-0.97108162, -0.07812088,  0.095     ]), 'goal_quat': array([0.52469642, 0.        , 0.        , 0.85128941]), 'parent': None, 'shape': array([0.08, 0.08, 0.09]), 'start_pos': array([ 0.11954686, -0.09735814,  0.095     ]), 'start_quat': array([ 0.36617593, -0.        , -0.        , -0.93054564])}],\n",
       "       dtype=object)}"
      ]
     },
     "execution_count": 43,
     "metadata": {},
     "output_type": "execute_result"
    }
   ],
   "source": [
    "df['obj_file'][0]"
   ]
  },
  {
   "cell_type": "code",
   "execution_count": 16,
   "metadata": {},
   "outputs": [],
   "source": [
    "de = pd.read_parquet('../samples_000010000_to_000012113.parquet')"
   ]
  },
  {
   "cell_type": "code",
   "execution_count": 18,
   "metadata": {},
   "outputs": [
    {
     "data": {
      "text/plain": [
       "{'objects': array([{'goal_pos': array([0.99165794, 0.88015619, 0.135     ]), 'goal_quat': array([ 0.87857692, -0.        , -0.        , -0.47760088]), 'shape': array([0.18, 0.2 , 0.17]), 'start_pos': array([-0.01340796,  0.5739036 ,  0.135     ]), 'start_quat': array([0.77371179, 0.        , 0.        , 0.63353774])},\n",
       "        {'goal_pos': array([-0.97108162, -0.07812088,  0.095     ]), 'goal_quat': array([0.52469642, 0.        , 0.        , 0.85128941]), 'shape': array([0.08, 0.08, 0.09]), 'start_pos': array([ 0.11954686, -0.09735814,  0.095     ]), 'start_quat': array([ 0.36617593, -0.        , -0.        , -0.93054564])}],\n",
       "       dtype=object)}"
      ]
     },
     "execution_count": 18,
     "metadata": {},
     "output_type": "execute_result"
    }
   ],
   "source": [
    "de['obj_file'][0]"
   ]
  },
  {
   "cell_type": "code",
   "execution_count": 53,
   "metadata": {},
   "outputs": [
    {
     "name": "stdout",
     "output_type": "stream",
     "text": [
      "                           dicts\n",
      "0          {'a': [{'a': 2}, {}]}\n",
      "1  {'a': [{'a': 1, 'b': 2}, {}]}\n"
     ]
    }
   ],
   "source": [
    "import pandas as pd\n",
    "import sys\n",
    "# Valid: Column with lists (same structure)\n",
    "data = {\n",
    "    # 'lists': [[{'a': 1, 'd': {'b': 2}}, 2], [3, 2]],  # object dtype (list)\n",
    "    'dicts': [{'a': [{'a': 2}, {}]}]  # object dtype (dict)\n",
    "}\n",
    "\n",
    "df = pd.DataFrame(data)\n",
    "dfs = df\n",
    "data = {\n",
    "    # 'lists': [[{'a': 1, 'd': {'b': 2}}, 2], [3, 2]],  # object dtype (list)\n",
    "    'dicts': [{'a': [{'a': 1, 'b': 2}, {}]}]  # object dtype (dict)\n",
    "}\n",
    "df = pd.DataFrame(data)\n",
    "dfs=pd.concat([dfs, df], ignore_index=True)\n",
    "print(dfs)"
   ]
  },
  {
   "cell_type": "code",
   "execution_count": 78,
   "metadata": {},
   "outputs": [],
   "source": [
    "dfs = pd.read_parquet('conveyor_5_rela.parquet')"
   ]
  },
  {
   "cell_type": "code",
   "execution_count": 79,
   "metadata": {},
   "outputs": [],
   "source": [
    "dfs_train = dfs[:int(len(dfs)*0.8)].copy()\n",
    "dfs_test = dfs[int(len(dfs)*0.8):].copy()\n",
    "dfs_train.to_parquet(\"conveyor_5_rela_train.parquet\")\n",
    "dfs_test.to_parquet(\"conveyor_5_rela_test.parquet\")"
   ]
  },
  {
   "cell_type": "code",
   "execution_count": 43,
   "metadata": {},
   "outputs": [],
   "source": [
    "dd = pd.read_parquet('replan_data/replan_ini_random_520_20250306_140304/random_520_rela_15.parquet')"
   ]
  },
  {
   "cell_type": "code",
   "execution_count": 46,
   "metadata": {},
   "outputs": [
    {
     "data": {
      "text/plain": [
       "{'objects': array([{'goal_pos': array([-0.0793171 ,  0.62006369,  0.13      ]), 'goal_quat': array([0.57328949, 0.        , 0.        , 0.81935289]), 'parent': 'table', 'shape': array([0.07, 0.31, 0.16]), 'start_pos': array([-0.54004653, -0.87543559,  0.13      ]), 'start_quat': array([0.77579737, 0.        , 0.        , 0.63098212])},\n",
       "        {'goal_pos': array([0.61833301, 0.94562547, 0.085     ]), 'goal_quat': array([ 0.83039172, -0.        , -0.        , -0.55718004]), 'parent': 'table', 'shape': array([0.26, 0.29, 0.07]), 'start_pos': array([-0.05723262,  1.26024425,  0.085     ]), 'start_quat': array([ 0.4776013 , -0.        , -0.        , -0.87857669])},\n",
       "        {'goal_pos': array([ 1.11798542, -1.33069887,  0.24      ]), 'goal_quat': array([ 0.26368264, -0.        , -0.        , -0.96460949]), 'parent': None, 'shape': array([0.11, 0.24, 0.38]), 'start_pos': array([-0.00357915, -0.00134287,  0.24      ]), 'start_quat': array([ 0.67796823, -0.        , -0.        , -0.7350912 ])}],\n",
       "       dtype=object)}"
      ]
     },
     "execution_count": 46,
     "metadata": {},
     "output_type": "execute_result"
    }
   ],
   "source": [
    "dd['obj_file'][0]"
   ]
  },
  {
   "cell_type": "code",
   "execution_count": 24,
   "metadata": {},
   "outputs": [],
   "source": [
    "dds = dd[520:521]"
   ]
  },
  {
   "cell_type": "code",
   "execution_count": 26,
   "metadata": {},
   "outputs": [
    {
     "data": {
      "text/plain": [
       "520    {'robots': [{'base_pos': [ 0.65984349 -0.91635...\n",
       "Name: robot_file, dtype: object"
      ]
     },
     "execution_count": 26,
     "metadata": {},
     "output_type": "execute_result"
    }
   ],
   "source": [
    "dds['robot_file']"
   ]
  },
  {
   "cell_type": "code",
   "execution_count": 101,
   "metadata": {},
   "outputs": [
    {
     "data": {
      "text/plain": [
       "{'a0_': {'base_pose': {'pos': array([-0.5, -0.4,  0. ]),\n",
       "   'quat': array([1., 0., 0., 0.])},\n",
       "  'end_effector_type': 1,\n",
       "  'home_pose': array([ 0.  ,  0.5 , -1.2 ,  0.  ,  1.57,  1.57]),\n",
       "  'initial_pose': array([ 0.  ,  0.5 , -1.2 ,  0.  ,  1.57,  1.57]),\n",
       "  'parent': 'table',\n",
       "  'type': 0},\n",
       " 'a1_': {'base_pose': {'pos': array([ 0.6, -0.4,  0. ]),\n",
       "   'quat': array([0., 0., 0., 1.])},\n",
       "  'end_effector_type': 1,\n",
       "  'home_pose': array([ 0.  ,  0.5 , -1.2 ,  0.  ,  1.57,  1.57]),\n",
       "  'initial_pose': array([ 0.  ,  0.5 , -1.2 ,  0.  ,  1.57,  1.57]),\n",
       "  'parent': 'table',\n",
       "  'type': 0},\n",
       " 'a2_': {'base_pose': {'pos': array([-0.5,  0.4,  0. ]),\n",
       "   'quat': array([1., 0., 0., 0.])},\n",
       "  'end_effector_type': 1,\n",
       "  'home_pose': array([ 0.  ,  0.5 , -1.2 ,  0.  ,  1.57,  1.57]),\n",
       "  'initial_pose': array([ 0.50539929,  0.11698392, -2.13504148,  0.45219942,  1.66271806,\n",
       "         -3.13982041]),\n",
       "  'parent': 'table',\n",
       "  'type': 0},\n",
       " 'a3_': {'base_pose': {'pos': array([0.6, 0.4, 0. ]),\n",
       "   'quat': array([0., 0., 0., 1.])},\n",
       "  'end_effector_type': 1,\n",
       "  'home_pose': array([ 0.  ,  0.5 , -1.2 ,  0.  ,  1.57,  1.57]),\n",
       "  'initial_pose': array([ 0.00604288,  0.41040029, -1.22644004, -0.01127548,  1.55454563,\n",
       "          1.5952866 ]),\n",
       "  'parent': 'table',\n",
       "  'type': 0}}"
      ]
     },
     "execution_count": 101,
     "metadata": {},
     "output_type": "execute_result"
    }
   ],
   "source": [
    "d_c['scene'][1]['Robots']"
   ]
  },
  {
   "cell_type": "code",
   "execution_count": 24,
   "metadata": {},
   "outputs": [],
   "source": [
    "d_c = pd.read_parquet('replan_data/replan_ini_conveyor_5_20250302_174502/conveyor_5_rela_15.parquet')\n",
    "d_r = pd.read_parquet('replan_data/replan_ini_random_520_20250308_225030/random_520_rela_25.parquet')\n",
    "d_h = pd.read_parquet('replan_data/replan_ini_husky_25_20250308_224336/husky_25_rela_25.parquet')\n",
    "d_s = pd.read_parquet('replan_data/replan_ini_shelf_52_20250317_143018/shelf_52_rela_25.parquet')\n"
   ]
  },
  {
   "cell_type": "code",
   "execution_count": 35,
   "metadata": {},
   "outputs": [
    {
     "name": "stdout",
     "output_type": "stream",
     "text": [
      "4 2\n"
     ]
    }
   ],
   "source": [
    "print(len(d_c['robot_file'][1]['robots']), len(d_c['obj_file'][1]['objects']))\n"
   ]
  },
  {
   "cell_type": "code",
   "execution_count": 16,
   "metadata": {},
   "outputs": [
    {
     "data": {
      "text/plain": [
       "{'metadata': {'cumulative_compute_time': 110691,\n",
       "  'folder': 'replan_data/replan_ini_shelf_52_20250317_143018/117/sequence_plan_20250317_152730/12/',\n",
       "  'makespan': 692.0,\n",
       "  'num_objects': 3,\n",
       "  'num_robots': 2}}"
      ]
     },
     "execution_count": 16,
     "metadata": {},
     "output_type": "execute_result"
    }
   ],
   "source": [
    "d_s['metadata'][1]"
   ]
  },
  {
   "cell_type": "code",
   "execution_count": 11,
   "metadata": {},
   "outputs": [
    {
     "name": "stdout",
     "output_type": "stream",
     "text": [
      "dict_keys(['World', 'table', 'table_base', 'table_left', 'table_right'])\n",
      "dict_keys(['World', 'table', 'table_base'])\n",
      "dict_keys(['World', 'base_link', 'base_link>dual_arm_bulkhead_joint', 'base_link>front_left_wheel', 'base_link>front_right_wheel', 'base_link>rear_left_wheel', 'base_link>rear_right_wheel', 'base_link_0', 'base_link_1', 'dual_arm_bulkhead_joint', 'dual_arm_bulkhead_link', 'dual_arm_bulkhead_link>left_arm_bulkhead_joint', 'dual_arm_bulkhead_link>right_arm_bulkhead_joint', 'dual_arm_bulkhead_link_1', 'front_bumper_extension_link_1', 'front_bumper_link_1', 'front_left_wheel', 'front_left_wheel_link', 'front_left_wheel_link_0', 'front_left_wheel_link_1', 'front_right_wheel', 'front_right_wheel_link', 'front_right_wheel_link_0', 'front_right_wheel_link_1', 'inertial_link', 'left_arm_bulkhead_joint', 'left_arm_bulkhead_link', 'rear_bumper_link_1', 'rear_left_wheel', 'rear_left_wheel_link', 'rear_left_wheel_link_0', 'rear_left_wheel_link_1', 'rear_right_wheel', 'rear_right_wheel_link', 'rear_right_wheel_link_0', 'rear_right_wheel_link_1', 'right_arm_bulkhead_joint', 'right_arm_bulkhead_link', 'table', 'table_base', 'top_chassis_link_1', 'top_coll_left', 'top_coll_middle', 'top_coll_right'])\n",
      "dict_keys(['World', 'base', 'divider', 'divider2', 'level1', 'level2', 'table', 'table_base'])\n"
     ]
    }
   ],
   "source": [
    "print(d_c['scene'][1]['Obstacles'].keys())\n",
    "print(d_r['scene'][1]['Obstacles'].keys())\n",
    "print(d_h['scene'][1]['Obstacles'].keys())\n",
    "print(d_s['scene'][1]['Obstacles'].keys())"
   ]
  },
  {
   "cell_type": "code",
   "execution_count": 87,
   "metadata": {},
   "outputs": [],
   "source": [
    "for i in range(d_s['scene'].size):\n",
    "    if len(d_s['scene'][i]['Obstacles'].keys()) != 8:\n",
    "        print(i)"
   ]
  },
  {
   "cell_type": "code",
   "execution_count": 103,
   "metadata": {},
   "outputs": [],
   "source": [
    "pq_train = ['replan_data/replan_ini_uni/conveyor_5_rela_15_train.parquet', 'replan_data/replan_ini_uni/random_520_rela_25_train.parquet',\n",
    "            'replan_data/replan_ini_uni/husky_25_rela_25_train.parquet', 'replan_data/replan_ini_uni/shelf_52_rela_25_train.parquet']\n",
    "pq_test = ['replan_data/replan_ini_uni/conveyor_5_rela_15_test.parquet', 'replan_data/replan_ini_uni/random_520_rela_25_test.parquet',\n",
    "            'replan_data/replan_ini_uni/husky_25_rela_25_test.parquet', 'replan_data/replan_ini_uni/shelf_52_rela_25_test.parquet']\n",
    "train_data = [pd.read_parquet(file) for file in pq_train]\n",
    "test_data = [pd.read_parquet(file) for file in pq_test]\n",
    "train = pd.concat(train_data, ignore_index=True)\n",
    "test = pd.concat(test_data, ignore_index=True)\n",
    "\n",
    "train.to_parquet('replan_data/replan_ini_uni/uni_train.parquet')\n",
    "test.to_parquet('replan_data/replan_ini_uni/uni_test.parquet')"
   ]
  },
  {
   "cell_type": "code",
   "execution_count": 23,
   "metadata": {},
   "outputs": [],
   "source": [
    "ddd = pd.read_parquet('replan_data/replan_ini_uni/uni_test.parquet')\n",
    "\n",
    "for i in range(len(ddd['robot_file'])):\n",
    "    for j in range(len(ddd['robot_file'][i]['robots'])):\n",
    "        if ddd['robot_file'][i]['robots'][j]['parent'] == None:\n",
    "            ddd['robot_file'][i]['robots'][j]['parent'] = 'table'\n",
    "        ddd['robot_file'][i]['robots'][j]['home_pose'] = [0, 0.5, -1.2, 0, 1.57, 1.57]\n",
    "\n",
    "ddd.to_parquet('replan_data/replan_ini_uni/uni_test.parquet')           "
   ]
  },
  {
   "cell_type": "code",
   "execution_count": null,
   "metadata": {},
   "outputs": [],
   "source": []
  }
 ],
 "metadata": {
  "kernelspec": {
   "display_name": "base",
   "language": "python",
   "name": "python3"
  },
  "language_info": {
   "codemirror_mode": {
    "name": "ipython",
    "version": 3
   },
   "file_extension": ".py",
   "mimetype": "text/x-python",
   "name": "python",
   "nbconvert_exporter": "python",
   "pygments_lexer": "ipython3",
   "version": "3.9.19"
  }
 },
 "nbformat": 4,
 "nbformat_minor": 2
}
