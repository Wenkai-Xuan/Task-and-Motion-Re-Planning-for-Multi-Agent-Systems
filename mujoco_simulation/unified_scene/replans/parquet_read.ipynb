{
 "cells": [
  {
   "cell_type": "code",
   "execution_count": 12,
   "metadata": {},
   "outputs": [],
   "source": [
    "import pandas as pd\n",
    "import json\n",
    "import numpy as np\n",
    "import os\n"
   ]
  },
  {
   "cell_type": "code",
   "execution_count": 28,
   "metadata": {},
   "outputs": [],
   "source": [
    "df = pd.read_parquet('conveyor_5_rela.parquet')"
   ]
  },
  {
   "cell_type": "code",
   "execution_count": 24,
   "metadata": {},
   "outputs": [
    {
     "data": {
      "text/plain": [
       "{'objects': array([{'goal_pos': array([0.99165794, 0.88015619, 0.135     ]), 'goal_quat': array([ 0.87857692, -0.        , -0.        , -0.47760088]), 'parent': None, 'shape': array([0.18, 0.2 , 0.17]), 'start_pos': array([0.60109976, 1.19948319, 0.13489235]), 'start_quat': array([-9.99840566e-01, -3.51205129e-08,  7.49480452e-08,  1.78561409e-02])},\n",
       "        {'goal_pos': array([-0.97108162, -0.07812088,  0.095     ]), 'goal_quat': array([0.52469642, 0.        , 0.        , 0.85128941]), 'parent': 'a0_pen_tip', 'shape': array([0.08, 0.08, 0.09]), 'start_pos': array([ 0.00589956, -0.0475158 ,  0.02492748]), 'start_quat': array([ 0.04352593,  0.87692866,  0.44167087, -0.18446804])}],\n",
       "       dtype=object)}"
      ]
     },
     "execution_count": 24,
     "metadata": {},
     "output_type": "execute_result"
    }
   ],
   "source": [
    "df['obj_file'][0]"
   ]
  },
  {
   "cell_type": "code",
   "execution_count": 29,
   "metadata": {},
   "outputs": [],
   "source": [
    "train = df[0:80].copy()\n",
    "test = df[80:].copy()\n",
    "train.to_parquet('conveyor_5_rela_train.parquet')\n",
    "test.to_parquet('conveyor_5_rela_test.parquet')"
   ]
  },
  {
   "cell_type": "code",
   "execution_count": null,
   "metadata": {},
   "outputs": [],
   "source": []
  }
 ],
 "metadata": {
  "kernelspec": {
   "display_name": "base",
   "language": "python",
   "name": "python3"
  },
  "language_info": {
   "codemirror_mode": {
    "name": "ipython",
    "version": 3
   },
   "file_extension": ".py",
   "mimetype": "text/x-python",
   "name": "python",
   "nbconvert_exporter": "python",
   "pygments_lexer": "ipython3",
   "version": "3.9.19"
  }
 },
 "nbformat": 4,
 "nbformat_minor": 2
}
