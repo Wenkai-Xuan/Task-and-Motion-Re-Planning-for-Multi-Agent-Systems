{
 "cells": [
  {
   "cell_type": "code",
   "execution_count": 1,
   "metadata": {},
   "outputs": [],
   "source": [
    "import pandas as pd\n",
    "import json\n",
    "import numpy as np\n",
    "import os\n"
   ]
  },
  {
   "cell_type": "code",
   "execution_count": 2,
   "metadata": {},
   "outputs": [],
   "source": [
    "df = pd.read_parquet('samples_000010000_to_000012113.parquet')"
   ]
  },
  {
   "cell_type": "code",
   "execution_count": 51,
   "metadata": {},
   "outputs": [
    {
     "name": "stdout",
     "output_type": "stream",
     "text": [
      "No\n"
     ]
    }
   ],
   "source": [
    "try:\n",
    "    df['scene'][5]['Obstacles']['divider']\n",
    "    print(\"good\")\n",
    "except:\n",
    "    print(\"No\")"
   ]
  },
  {
   "cell_type": "code",
   "execution_count": 53,
   "metadata": {},
   "outputs": [
    {
     "name": "stdout",
     "output_type": "stream",
     "text": [
      "No\n"
     ]
    }
   ],
   "source": [
    "if ('divider' in df['scene'][5]['Obstacles'].keys()):\n",
    "    print(\"Yes\")\n",
    "else:\n",
    "    print(\"No\")"
   ]
  },
  {
   "cell_type": "code",
   "execution_count": 17,
   "metadata": {},
   "outputs": [],
   "source": [
    "with open('scene_5.json', 'w') as file:\n",
    "    json.dump(df['scene'][5], file, default=str, indent=4)"
   ]
  },
  {
   "cell_type": "code",
   "execution_count": 18,
   "metadata": {},
   "outputs": [],
   "source": [
    "initial_states = []\n",
    "initial_states.append({'objects': df['obj_file'][5]['objects'].tolist(), 'robots': df['robot_file'][5]['robots'].tolist()})\n",
    "with open(f'initial_{5}.json', 'w') as file:\n",
    "    json.dump(initial_states, file, default=str, indent=4)"
   ]
  },
  {
   "cell_type": "code",
   "execution_count": 19,
   "metadata": {},
   "outputs": [],
   "source": [
    "obj_step = df['trajectory'][5]['objs'][0]['steps']"
   ]
  },
  {
   "cell_type": "code",
   "execution_count": 20,
   "metadata": {},
   "outputs": [
    {
     "data": {
      "text/plain": [
       "298"
      ]
     },
     "execution_count": 20,
     "metadata": {},
     "output_type": "execute_result"
    }
   ],
   "source": [
    "obj_step.size"
   ]
  },
  {
   "cell_type": "code",
   "execution_count": 21,
   "metadata": {},
   "outputs": [],
   "source": [
    "aa = [0.0, 0.0, 0.0]"
   ]
  },
  {
   "cell_type": "code",
   "execution_count": 22,
   "metadata": {},
   "outputs": [],
   "source": [
    "aa = obj_step[0]['pos'][0:3].tolist()"
   ]
  },
  {
   "cell_type": "code",
   "execution_count": 23,
   "metadata": {},
   "outputs": [],
   "source": [
    "obj_traj = [[],[]]"
   ]
  },
  {
   "cell_type": "code",
   "execution_count": 24,
   "metadata": {},
   "outputs": [],
   "source": [
    "obj_traj[0] = aa\n",
    "obj_traj[1] = aa"
   ]
  },
  {
   "cell_type": "code",
   "execution_count": 25,
   "metadata": {},
   "outputs": [
    {
     "data": {
      "text/plain": [
       "3"
      ]
     },
     "execution_count": 25,
     "metadata": {},
     "output_type": "execute_result"
    }
   ],
   "source": [
    "len(obj_traj[0])"
   ]
  },
  {
   "cell_type": "code",
   "execution_count": 26,
   "metadata": {},
   "outputs": [],
   "source": [
    "with open('a0_traj_5.json', 'r') as file:\n",
    "    states = json.load(file)\n",
    "joint_states = []\n",
    "for i in range(298):   # 474 joint states in total\n",
    "    joint_states.append(states[i]['joint_state']) # join_states:(474,7)"
   ]
  },
  {
   "cell_type": "code",
   "execution_count": 27,
   "metadata": {},
   "outputs": [],
   "source": [
    "obj_traj = []"
   ]
  },
  {
   "cell_type": "code",
   "execution_count": 28,
   "metadata": {},
   "outputs": [
    {
     "data": {
      "text/plain": [
       "[]"
      ]
     },
     "execution_count": 28,
     "metadata": {},
     "output_type": "execute_result"
    }
   ],
   "source": [
    "obj_traj"
   ]
  },
  {
   "cell_type": "code",
   "execution_count": 29,
   "metadata": {},
   "outputs": [],
   "source": [
    "rob_name = df['trajectory'][5]['robots'][0]['name']"
   ]
  },
  {
   "cell_type": "code",
   "execution_count": 30,
   "metadata": {},
   "outputs": [
    {
     "data": {
      "text/plain": [
       "3"
      ]
     },
     "execution_count": 30,
     "metadata": {},
     "output_type": "execute_result"
    }
   ],
   "source": [
    "int(rob_name[1])"
   ]
  },
  {
   "cell_type": "code",
   "execution_count": 31,
   "metadata": {},
   "outputs": [
    {
     "data": {
      "text/plain": [
       "[{'base_pos': array([-0.5, -0.4,  0. ]),\n",
       "  'base_quat': array([1., 0., 0., 0.]),\n",
       "  'type': 'ur5_vacuum'},\n",
       " {'base_pos': array([ 0.6, -0.4,  0. ]),\n",
       "  'base_quat': array([0., 0., 0., 1.]),\n",
       "  'type': 'ur5_vacuum'},\n",
       " {'base_pos': array([-0.5,  0.4,  0. ]),\n",
       "  'base_quat': array([1., 0., 0., 0.]),\n",
       "  'type': 'ur5_vacuum'},\n",
       " {'base_pos': array([0.6, 0.4, 0. ]),\n",
       "  'base_quat': array([0., 0., 0., 1.]),\n",
       "  'type': 'ur5_vacuum'}]"
      ]
     },
     "execution_count": 31,
     "metadata": {},
     "output_type": "execute_result"
    }
   ],
   "source": [
    "df['trajectory'][5]['objs'][0]['name'][3]\n",
    "df['robot_file'][5]['robots'].tolist()"
   ]
  },
  {
   "cell_type": "code",
   "execution_count": 32,
   "metadata": {},
   "outputs": [
    {
     "name": "stdout",
     "output_type": "stream",
     "text": [
      "<Element 'mujoco' at 0x700ea800df40>\n"
     ]
    }
   ],
   "source": [
    "import xml.etree.ElementTree as ET\n",
    "\n",
    "tree = ET.parse('ur5e_four.xml')\n",
    "root = tree.getroot()\n",
    "print(root)"
   ]
  },
  {
   "cell_type": "code",
   "execution_count": 33,
   "metadata": {},
   "outputs": [],
   "source": [
    "def mjformat(array):\n",
    "    str_array = ''\n",
    "    for i in range(array.size - 1):\n",
    "        str_array += str(array[i]) + ' '\n",
    "    \n",
    "    str_array += str(array[array.size-1])\n",
    "    \n",
    "    return str_array\n",
    "\n",
    "ini_rob = df['robot_file'][0]['robots'].tolist()\n",
    "j = 0\n",
    "for rob in root.iter('body'):\n",
    "    if rob.attrib['name'].startswith('base'):\n",
    "        # print(rob.attrib['pos'])\n",
    "        mj_pos = ini_rob[j]['base_pos']\n",
    "        mj_quat = ini_rob[j]['base_quat']\n",
    "        rob.attrib['pos'] = mjformat(mj_pos)\n",
    "        rob.attrib['quat'] = mjformat(mj_quat)\n",
    "\n",
    "        tree.write('ur5e_four.xml')\n",
    "        j += 1"
   ]
  },
  {
   "cell_type": "code",
   "execution_count": 34,
   "metadata": {},
   "outputs": [],
   "source": [
    "for state in root.findall('geom'):\n",
    "    rank = state.find('box').text\n",
    "    name = state.get('name')\n",
    "    print(name, rank)"
   ]
  },
  {
   "cell_type": "code",
   "execution_count": 35,
   "metadata": {},
   "outputs": [
    {
     "name": "stdout",
     "output_type": "stream",
     "text": [
      "[0.18, 0.2, 0.17]\n",
      "[0.09  0.1   0.085]\n",
      "[0.09  0.1   0.085]\n"
     ]
    }
   ],
   "source": [
    "aa = []\n",
    "aa.append(df['obj_file'][5]['objects'][0]['shape'].tolist())\n",
    "print(aa[0])\n",
    "a = df['obj_file'][5]['objects']\n",
    "print(a[0]['shape']/2)\n",
    "array = a[0]['shape']/2\n",
    "c = str(aa[0][0])+' '+str(aa[0][0])+' '+str(aa[0][0])\n",
    "print(array)"
   ]
  },
  {
   "cell_type": "code",
   "execution_count": 36,
   "metadata": {},
   "outputs": [
    {
     "ename": "KeyError",
     "evalue": "'size'",
     "output_type": "error",
     "traceback": [
      "\u001b[0;31m---------------------------------------------------------------------------\u001b[0m",
      "\u001b[0;31mKeyError\u001b[0m                                  Traceback (most recent call last)",
      "Cell \u001b[0;32mIn[36], line 3\u001b[0m\n\u001b[1;32m      1\u001b[0m i \u001b[38;5;241m=\u001b[39m \u001b[38;5;241m0\u001b[39m\n\u001b[1;32m      2\u001b[0m \u001b[38;5;28;01mfor\u001b[39;00m obj \u001b[38;5;129;01min\u001b[39;00m root\u001b[38;5;241m.\u001b[39miter(\u001b[38;5;124m'\u001b[39m\u001b[38;5;124mgeom\u001b[39m\u001b[38;5;124m'\u001b[39m):\n\u001b[0;32m----> 3\u001b[0m     \u001b[38;5;28mprint\u001b[39m(\u001b[43mobj\u001b[49m\u001b[38;5;241;43m.\u001b[39;49m\u001b[43mattrib\u001b[49m\u001b[43m[\u001b[49m\u001b[38;5;124;43m'\u001b[39;49m\u001b[38;5;124;43msize\u001b[39;49m\u001b[38;5;124;43m'\u001b[39;49m\u001b[43m]\u001b[49m)\n\u001b[1;32m      4\u001b[0m     \u001b[38;5;28mprint\u001b[39m(df[\u001b[38;5;124m'\u001b[39m\u001b[38;5;124mobj_file\u001b[39m\u001b[38;5;124m'\u001b[39m][\u001b[38;5;241m5\u001b[39m][\u001b[38;5;124m'\u001b[39m\u001b[38;5;124mobjects\u001b[39m\u001b[38;5;124m'\u001b[39m][\u001b[38;5;241m0\u001b[39m][\u001b[38;5;124m'\u001b[39m\u001b[38;5;124mshape\u001b[39m\u001b[38;5;124m'\u001b[39m])\n\u001b[1;32m      5\u001b[0m     obj\u001b[38;5;241m.\u001b[39mattrib[\u001b[38;5;124m'\u001b[39m\u001b[38;5;124msize\u001b[39m\u001b[38;5;124m'\u001b[39m] \u001b[38;5;241m=\u001b[39m \u001b[38;5;28mstr\u001b[39m(aa[\u001b[38;5;241m0\u001b[39m][\u001b[38;5;241m0\u001b[39m])\u001b[38;5;241m+\u001b[39m\u001b[38;5;124m'\u001b[39m\u001b[38;5;124m \u001b[39m\u001b[38;5;124m'\u001b[39m\u001b[38;5;241m+\u001b[39m\u001b[38;5;28mstr\u001b[39m(aa[\u001b[38;5;241m0\u001b[39m][\u001b[38;5;241m0\u001b[39m])\u001b[38;5;241m+\u001b[39m\u001b[38;5;124m'\u001b[39m\u001b[38;5;124m \u001b[39m\u001b[38;5;124m'\u001b[39m\u001b[38;5;241m+\u001b[39m\u001b[38;5;28mstr\u001b[39m(aa[\u001b[38;5;241m0\u001b[39m][\u001b[38;5;241m0\u001b[39m])\n",
      "\u001b[0;31mKeyError\u001b[0m: 'size'"
     ]
    }
   ],
   "source": [
    "i = 0\n",
    "for obj in root.iter('geom'):\n",
    "    print(obj.attrib['size'])\n",
    "    print(df['obj_file'][5]['objects'][0]['shape'])\n",
    "    obj.attrib['size'] = str(aa[0][0])+' '+str(aa[0][0])+' '+str(aa[0][0])\n",
    "    tree.write('objs_two.xml')\n",
    "    i += 1"
   ]
  },
  {
   "cell_type": "code",
   "execution_count": 107,
   "metadata": {},
   "outputs": [
    {
     "data": {
      "text/plain": [
       "{'type': 'free'}"
      ]
     },
     "execution_count": 107,
     "metadata": {},
     "output_type": "execute_result"
    }
   ],
   "source": [
    "obj[0].attrib"
   ]
  },
  {
   "cell_type": "code",
   "execution_count": 131,
   "metadata": {},
   "outputs": [
    {
     "data": {
      "text/plain": [
       "[-0.013407960859789902, 0.573903604710781, 0.135]"
      ]
     },
     "execution_count": 131,
     "metadata": {},
     "output_type": "execute_result"
    }
   ],
   "source": [
    "df['obj_file'][5]['objects'][0]['start_pos'].tolist()"
   ]
  },
  {
   "cell_type": "code",
   "execution_count": 177,
   "metadata": {},
   "outputs": [
    {
     "ename": "TypeError",
     "evalue": "from_file(): incompatible function arguments. The following argument types are supported:\n    1. (self: mujoco._specs.MjSpec, filename: str, assets: Optional[dict] = None) -> None\n\nInvoked with: 'objs_two.xml'",
     "output_type": "error",
     "traceback": [
      "\u001b[0;31m---------------------------------------------------------------------------\u001b[0m",
      "\u001b[0;31mTypeError\u001b[0m                                 Traceback (most recent call last)",
      "Cell \u001b[0;32mIn[177], line 5\u001b[0m\n\u001b[1;32m      3\u001b[0m \u001b[38;5;66;03m# model = mj.MjModel.from_xml_path('objs_two.xml')  # MuJoCo model\u001b[39;00m\n\u001b[1;32m      4\u001b[0m filename \u001b[38;5;241m=\u001b[39m \u001b[38;5;124m'\u001b[39m\u001b[38;5;124mobjs_two.xml\u001b[39m\u001b[38;5;124m'\u001b[39m\n\u001b[0;32m----> 5\u001b[0m spec \u001b[38;5;241m=\u001b[39m \u001b[43mmj\u001b[49m\u001b[38;5;241;43m.\u001b[39;49m\u001b[43mMjSpec\u001b[49m\u001b[38;5;241;43m.\u001b[39;49m\u001b[43mfrom_file\u001b[49m\u001b[43m(\u001b[49m\u001b[43mfilename\u001b[49m\u001b[43m)\u001b[49m\n\u001b[1;32m      7\u001b[0m \u001b[38;5;28mprint\u001b[39m(\u001b[38;5;28mdir\u001b[39m(spec\u001b[38;5;241m.\u001b[39mworldbody))\n\u001b[1;32m      9\u001b[0m \u001b[38;5;28mprint\u001b[39m(spec\u001b[38;5;241m.\u001b[39mworldbody\u001b[38;5;241m.\u001b[39mnext_body)\n",
      "\u001b[0;31mTypeError\u001b[0m: from_file(): incompatible function arguments. The following argument types are supported:\n    1. (self: mujoco._specs.MjSpec, filename: str, assets: Optional[dict] = None) -> None\n\nInvoked with: 'objs_two.xml'"
     ]
    }
   ],
   "source": [
    "import mujoco as mj\n",
    "\n",
    "# model = mj.MjModel.from_xml_path('objs_two.xml')  # MuJoCo model\n",
    "filename = 'objs_two.xml'\n",
    "spec = mj.MjSpec.from_file(filename)\n",
    "\n",
    "print(dir(spec.worldbody))\n",
    "\n",
    "print(spec.worldbody.next_body)\n",
    "\n",
    "# body = spec.worldbody.add_body(\n",
    "#     pos=[1, 2, 3],\n",
    "#     quat=[0, 1, 0, 0],\n",
    "# )\n",
    "# geom = body.add_geom(\n",
    "#     name='my_geom',\n",
    "#     type=mj.mjtGeom.mjGEOM_SPHERE,\n",
    "#     size=[1, 0, 0],\n",
    "#     rgba=[1, 0, 0, 1],\n",
    "# )\n",
    "\n",
    "model = spec.compile()"
   ]
  },
  {
   "cell_type": "code",
   "execution_count": 4,
   "metadata": {},
   "outputs": [
    {
     "data": {
      "text/plain": [
       "4"
      ]
     },
     "execution_count": 4,
     "metadata": {},
     "output_type": "execute_result"
    }
   ],
   "source": [
    "df['robot_file'][5]['robots'].size"
   ]
  }
 ],
 "metadata": {
  "kernelspec": {
   "display_name": "base",
   "language": "python",
   "name": "python3"
  },
  "language_info": {
   "codemirror_mode": {
    "name": "ipython",
    "version": 3
   },
   "file_extension": ".py",
   "mimetype": "text/x-python",
   "name": "python",
   "nbconvert_exporter": "python",
   "pygments_lexer": "ipython3",
   "version": "3.9.19"
  }
 },
 "nbformat": 4,
 "nbformat_minor": 2
}
