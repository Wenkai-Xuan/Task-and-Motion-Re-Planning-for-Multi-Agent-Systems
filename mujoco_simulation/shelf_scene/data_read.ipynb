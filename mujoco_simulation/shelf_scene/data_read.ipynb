{
 "cells": [
  {
   "cell_type": "code",
   "execution_count": 2,
   "metadata": {},
   "outputs": [],
   "source": [
    "import pandas as pd\n",
    "import json\n",
    "import numpy as np\n",
    "import os\n"
   ]
  },
  {
   "cell_type": "code",
   "execution_count": 3,
   "metadata": {},
   "outputs": [],
   "source": [
    "df = pd.read_parquet('samples_000000000_to_000001376.parquet')"
   ]
  },
  {
   "cell_type": "code",
   "execution_count": 3,
   "metadata": {},
   "outputs": [
    {
     "data": {
      "text/plain": [
       "{'Objects': {'obj1': {'goal': {'abs_pos': array([ 0.85454781, -0.54136469,  0.625     ]),\n",
       "    'abs_quat': array([ 0.99977222, -0.        , -0.        , -0.02134272]),\n",
       "    'parent': 'table',\n",
       "    'pos': array([ 0.85454781, -0.59136469,  0.075     ]),\n",
       "    'quat': array([ 0.99977222, -0.        , -0.        , -0.02134272])},\n",
       "   'size': array([0.03, 0.3 , 0.05, 0.01]),\n",
       "   'start': {'abs_pos': array([0.38404472, 0.38081022, 0.701     ]),\n",
       "    'abs_quat': array([ 0.38408228, -0.        , -0.        , -0.92329887]),\n",
       "    'parent': 'table',\n",
       "    'pos': array([0.38404472, 0.33081022, 0.151     ]),\n",
       "    'quat': array([ 0.38408228, -0.        , -0.        , -0.92329887])}},\n",
       "  'obj2': {'goal': {'abs_pos': array([-0.17840204, -0.76828998,  0.625     ]),\n",
       "    'abs_quat': array([0.43838584, 0.        , 0.        , 0.89878688]),\n",
       "    'parent': 'table',\n",
       "    'pos': array([-0.17840204, -0.81828998,  0.075     ]),\n",
       "    'quat': array([0.43838584, 0.        , 0.        , 0.89878688])},\n",
       "   'size': array([0.03, 0.3 , 0.05, 0.01]),\n",
       "   'start': {'abs_pos': array([-0.39622688,  0.31382826,  1.101     ]),\n",
       "    'abs_quat': array([ 0.99665138, -0.        , -0.        , -0.08176817]),\n",
       "    'parent': 'table',\n",
       "    'pos': array([-0.39622688,  0.26382826,  0.551     ]),\n",
       "    'quat': array([ 0.99665138, -0.        , -0.        , -0.08176817])}},\n",
       "  'obj3': {'goal': {'abs_pos': array([-0.61417461, -0.76085012,  0.625     ]),\n",
       "    'abs_quat': array([ 0.13895722, -0.        , -0.        , -0.99029838]),\n",
       "    'parent': 'table',\n",
       "    'pos': array([-0.61417461, -0.81085012,  0.075     ]),\n",
       "    'quat': array([ 0.13895722, -0.        , -0.        , -0.99029838])},\n",
       "   'size': array([0.03, 0.3 , 0.05, 0.01]),\n",
       "   'start': {'abs_pos': array([0.0167442 , 0.35602252, 0.701     ]),\n",
       "    'abs_quat': array([0.40447506, 0.        , 0.        , 0.91454903]),\n",
       "    'parent': 'table',\n",
       "    'pos': array([0.0167442 , 0.30602252, 0.151     ]),\n",
       "    'quat': array([0.40447506, 0.        , 0.        , 0.91454903])}},\n",
       "  'obj4': {'goal': {'abs_pos': array([ 0.28302891, -0.77941163,  0.625     ]),\n",
       "    'abs_quat': array([0.64875938, 0.        , 0.        , 0.76099361]),\n",
       "    'parent': 'table',\n",
       "    'pos': array([ 0.28302891, -0.82941163,  0.075     ]),\n",
       "    'quat': array([0.64875938, 0.        , 0.        , 0.76099361])},\n",
       "   'size': array([0.03, 0.3 , 0.05, 0.01]),\n",
       "   'start': {'abs_pos': array([-0.00161777,  0.31079017,  1.101     ]),\n",
       "    'abs_quat': array([ 0.08132772, -0.        , -0.        , -0.99668741]),\n",
       "    'parent': 'table',\n",
       "    'pos': array([-0.00161777,  0.26079017,  0.551     ]),\n",
       "    'quat': array([ 0.08132772, -0.        , -0.        , -0.99668741])}}},\n",
       " 'Obstacles': {'World': {'pose': {'abs_pos': array([0., 0., 0.]),\n",
       "    'abs_quat': array([1., 0., 0., 0.]),\n",
       "    'pos': array([0., 0., 0.]),\n",
       "    'quat': array([1., 0., 0., 0.])}},\n",
       "  'base': {'contact': 1,\n",
       "   'pose': {'abs_pos': array([0.  , 0.35, 0.65]),\n",
       "    'abs_quat': array([1., 0., 0., 0.]),\n",
       "    'parent': 'table',\n",
       "    'pos': array([0. , 0.3, 0.1]),\n",
       "    'quat': array([1., 0., 0., 0.])},\n",
       "   'shape': 'box',\n",
       "   'size': array([1.2 , 0.3 , 0.05])},\n",
       "  'divider': {'contact': 1,\n",
       "   'pose': {'abs_pos': array([0.2 , 0.35, 1.05]),\n",
       "    'abs_quat': array([1., 0., 0., 0.]),\n",
       "    'parent': 'base',\n",
       "    'pos': array([0.2, 0. , 0.4]),\n",
       "    'quat': array([1., 0., 0., 0.])},\n",
       "   'shape': 'box',\n",
       "   'size': array([0.05, 0.2 , 0.9 ])},\n",
       "  'divider2': {'contact': 1,\n",
       "   'pose': {'abs_pos': array([-0.2 ,  0.35,  1.05]),\n",
       "    'abs_quat': array([1., 0., 0., 0.]),\n",
       "    'parent': 'base',\n",
       "    'pos': array([-0.2,  0. ,  0.4]),\n",
       "    'quat': array([1., 0., 0., 0.])},\n",
       "   'shape': 'box',\n",
       "   'size': array([0.05, 0.2 , 0.9 ])},\n",
       "  'level1': {'contact': 1,\n",
       "   'pose': {'abs_pos': array([0.  , 0.35, 1.05]),\n",
       "    'abs_quat': array([1., 0., 0., 0.]),\n",
       "    'parent': 'base',\n",
       "    'pos': array([0. , 0. , 0.4]),\n",
       "    'quat': array([1., 0., 0., 0.])},\n",
       "   'shape': 'box',\n",
       "   'size': array([1.2 , 0.3 , 0.05])},\n",
       "  'level2': {'contact': 1,\n",
       "   'pose': {'abs_pos': array([0.  , 0.35, 1.45]),\n",
       "    'abs_quat': array([1., 0., 0., 0.]),\n",
       "    'parent': 'base',\n",
       "    'pos': array([0. , 0. , 0.8]),\n",
       "    'quat': array([1., 0., 0., 0.])},\n",
       "   'shape': 'box',\n",
       "   'size': array([1.2 , 0.3 , 0.05])},\n",
       "  'table': {'contact': 1,\n",
       "   'pose': {'abs_pos': array([0.  , 0.05, 0.55]),\n",
       "    'abs_quat': array([1., 0., 0., 0.]),\n",
       "    'parent': 'table_base',\n",
       "    'pos': array([ 0.  ,  0.05, -0.05]),\n",
       "    'quat': array([1., 0., 0., 0.])},\n",
       "   'shape': 'box',\n",
       "   'size': array([3.  , 2.5 , 0.05, 0.02])},\n",
       "  'table_base': {'contact': 0,\n",
       "   'pose': {'abs_pos': array([0. , 0. , 0.6]),\n",
       "    'abs_quat': array([1., 0., 0., 0.]),\n",
       "    'parent': 'World',\n",
       "    'pos': array([0. , 0. , 0.6]),\n",
       "    'quat': array([1., 0., 0., 0.])},\n",
       "   'size': array([0.03])}},\n",
       " 'Robots': {'a0_': {'base_pose': {'pos': array([-0.4, -0.3,  0. ]),\n",
       "    'quat': array([0.70710678, 0.        , 0.        , 0.70710678])},\n",
       "   'end_effector_type': 0,\n",
       "   'home_pose': array([ 0.  ,  0.5 , -1.2 ,  0.  ,  1.57,  1.57]),\n",
       "   'initial_pose': array([ 0.  ,  0.5 , -1.2 ,  0.  ,  1.57,  1.57]),\n",
       "   'parent': 'table',\n",
       "   'type': 0},\n",
       "  'a1_': {'base_pose': {'pos': array([ 0.4, -0.3,  0. ]),\n",
       "    'quat': array([0.70710678, 0.        , 0.        , 0.70710678])},\n",
       "   'end_effector_type': 0,\n",
       "   'home_pose': array([ 0.  ,  0.5 , -1.2 ,  0.  ,  1.57,  1.57]),\n",
       "   'initial_pose': array([ 0.  ,  0.5 , -1.2 ,  0.  ,  1.57,  1.57]),\n",
       "   'parent': 'table',\n",
       "   'type': 0}}}"
      ]
     },
     "execution_count": 3,
     "metadata": {},
     "output_type": "execute_result"
    }
   ],
   "source": [
    "df['scene'][5]"
   ]
  },
  {
   "cell_type": "code",
   "execution_count": 7,
   "metadata": {},
   "outputs": [],
   "source": [
    "initial_states = []\n",
    "initial_states.append({'objects': df['obj_file'][5]['objects'].tolist(), 'robots': df['robot_file'][5]['robots'].tolist()})\n",
    "with open(f'initial_{5}.json', 'w') as file:\n",
    "    json.dump(initial_states, file, default=str, indent=4)"
   ]
  },
  {
   "cell_type": "code",
   "execution_count": 10,
   "metadata": {},
   "outputs": [
    {
     "data": {
      "text/plain": [
       "array([{'goal_pos': array([ 0.85454781, -0.59136469,  0.075     ]), 'goal_quat': array([ 0.99977222, -0.        , -0.        , -0.02134272]), 'shape': array([0.03, 0.3 , 0.05]), 'start_pos': array([0.38404472, 0.33081022, 0.151     ]), 'start_quat': array([ 0.38408228, -0.        , -0.        , -0.92329887])},\n",
       "       {'goal_pos': array([-0.17840204, -0.81828998,  0.075     ]), 'goal_quat': array([0.43838584, 0.        , 0.        , 0.89878688]), 'shape': array([0.03, 0.3 , 0.05]), 'start_pos': array([-0.39622688,  0.26382826,  0.551     ]), 'start_quat': array([ 0.99665138, -0.        , -0.        , -0.08176817])},\n",
       "       {'goal_pos': array([-0.61417461, -0.81085012,  0.075     ]), 'goal_quat': array([ 0.13895722, -0.        , -0.        , -0.99029838]), 'shape': array([0.03, 0.3 , 0.05]), 'start_pos': array([0.0167442 , 0.30602252, 0.151     ]), 'start_quat': array([0.40447506, 0.        , 0.        , 0.91454903])},\n",
       "       {'goal_pos': array([ 0.28302891, -0.82941163,  0.075     ]), 'goal_quat': array([0.64875938, 0.        , 0.        , 0.76099361]), 'shape': array([0.03, 0.3 , 0.05]), 'start_pos': array([-0.00161777,  0.26079017,  0.551     ]), 'start_quat': array([ 0.08132772, -0.        , -0.        , -0.99668741])}],\n",
       "      dtype=object)"
      ]
     },
     "execution_count": 10,
     "metadata": {},
     "output_type": "execute_result"
    }
   ],
   "source": [
    "df['obj_file'][5]['objects']"
   ]
  },
  {
   "cell_type": "code",
   "execution_count": 5,
   "metadata": {},
   "outputs": [
    {
     "data": {
      "text/plain": [
       "'1'"
      ]
     },
     "execution_count": 5,
     "metadata": {},
     "output_type": "execute_result"
    }
   ],
   "source": [
    "df['trajectory'][5]['objs'][0]['name'][3]"
   ]
  },
  {
   "cell_type": "code",
   "execution_count": null,
   "metadata": {},
   "outputs": [],
   "source": []
  }
 ],
 "metadata": {
  "kernelspec": {
   "display_name": "base",
   "language": "python",
   "name": "python3"
  },
  "language_info": {
   "codemirror_mode": {
    "name": "ipython",
    "version": 3
   },
   "file_extension": ".py",
   "mimetype": "text/x-python",
   "name": "python",
   "nbconvert_exporter": "python",
   "pygments_lexer": "ipython3",
   "version": "3.9.19"
  }
 },
 "nbformat": 4,
 "nbformat_minor": 2
}
